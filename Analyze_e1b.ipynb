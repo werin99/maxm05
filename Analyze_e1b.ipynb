{
  "nbformat": 4,
  "nbformat_minor": 0,
  "metadata": {
    "colab": {
      "name": "Analyze_e1b.ipynb",
      "provenance": [],
      "collapsed_sections": []
    },
    "kernelspec": {
      "name": "python3",
      "display_name": "Python 3"
    }
  },
  "cells": [
    {
      "cell_type": "markdown",
      "metadata": {
        "id": "QajT16xJiC1Q",
        "colab_type": "text"
      },
      "source": [
        "# Analyze_e1b\n",
        "\n",
        "Example for the MAXM05 course\n",
        "\n",
        "(Sverker Werin)"
      ]
    },
    {
      "cell_type": "code",
      "metadata": {
        "id": "GFtvmOxp807C",
        "colab_type": "code",
        "outputId": "918e2c07-d361-4784-d004-ce57ca5f59bf",
        "colab": {
          "base_uri": "https://localhost:8080/",
          "height": 162
        }
      },
      "source": [
        "!pip install accelerator-toolbox # only for Google Colab\n",
        "\n",
        "import at\n",
        "import numpy as np\n",
        "import matplotlib.pyplot as plt"
      ],
      "execution_count": 0,
      "outputs": [
        {
          "output_type": "stream",
          "text": [
            "Collecting accelerator-toolbox\n",
            "\u001b[?25l  Downloading https://files.pythonhosted.org/packages/5b/ff/7fa569f02c28b1cbe072fc2ae3383bf8508021c29537b2081bd99c8ec510/accelerator_toolbox-0.0.3-cp36-cp36m-manylinux1_x86_64.whl (652kB)\n",
            "\r\u001b[K     |▌                               | 10kB 19.8MB/s eta 0:00:01\r\u001b[K     |█                               | 20kB 3.2MB/s eta 0:00:01\r\u001b[K     |█▌                              | 30kB 4.2MB/s eta 0:00:01\r\u001b[K     |██                              | 40kB 2.9MB/s eta 0:00:01\r\u001b[K     |██▌                             | 51kB 3.3MB/s eta 0:00:01\r\u001b[K     |███                             | 61kB 3.9MB/s eta 0:00:01\r\u001b[K     |███▌                            | 71kB 4.3MB/s eta 0:00:01\r\u001b[K     |████                            | 81kB 4.5MB/s eta 0:00:01\r\u001b[K     |████▌                           | 92kB 5.0MB/s eta 0:00:01\r\u001b[K     |█████                           | 102kB 4.8MB/s eta 0:00:01\r\u001b[K     |█████▌                          | 112kB 4.8MB/s eta 0:00:01\r\u001b[K     |██████                          | 122kB 4.8MB/s eta 0:00:01\r\u001b[K     |██████▌                         | 133kB 4.8MB/s eta 0:00:01\r\u001b[K     |███████                         | 143kB 4.8MB/s eta 0:00:01\r\u001b[K     |███████▌                        | 153kB 4.8MB/s eta 0:00:01\r\u001b[K     |████████                        | 163kB 4.8MB/s eta 0:00:01\r\u001b[K     |████████▌                       | 174kB 4.8MB/s eta 0:00:01\r\u001b[K     |█████████                       | 184kB 4.8MB/s eta 0:00:01\r\u001b[K     |█████████▌                      | 194kB 4.8MB/s eta 0:00:01\r\u001b[K     |██████████                      | 204kB 4.8MB/s eta 0:00:01\r\u001b[K     |██████████▌                     | 215kB 4.8MB/s eta 0:00:01\r\u001b[K     |███████████                     | 225kB 4.8MB/s eta 0:00:01\r\u001b[K     |███████████▌                    | 235kB 4.8MB/s eta 0:00:01\r\u001b[K     |████████████                    | 245kB 4.8MB/s eta 0:00:01\r\u001b[K     |████████████▌                   | 256kB 4.8MB/s eta 0:00:01\r\u001b[K     |█████████████                   | 266kB 4.8MB/s eta 0:00:01\r\u001b[K     |█████████████▌                  | 276kB 4.8MB/s eta 0:00:01\r\u001b[K     |██████████████                  | 286kB 4.8MB/s eta 0:00:01\r\u001b[K     |██████████████▋                 | 296kB 4.8MB/s eta 0:00:01\r\u001b[K     |███████████████                 | 307kB 4.8MB/s eta 0:00:01\r\u001b[K     |███████████████▋                | 317kB 4.8MB/s eta 0:00:01\r\u001b[K     |████████████████                | 327kB 4.8MB/s eta 0:00:01\r\u001b[K     |████████████████▋               | 337kB 4.8MB/s eta 0:00:01\r\u001b[K     |█████████████████               | 348kB 4.8MB/s eta 0:00:01\r\u001b[K     |█████████████████▋              | 358kB 4.8MB/s eta 0:00:01\r\u001b[K     |██████████████████              | 368kB 4.8MB/s eta 0:00:01\r\u001b[K     |██████████████████▋             | 378kB 4.8MB/s eta 0:00:01\r\u001b[K     |███████████████████             | 389kB 4.8MB/s eta 0:00:01\r\u001b[K     |███████████████████▋            | 399kB 4.8MB/s eta 0:00:01\r\u001b[K     |████████████████████            | 409kB 4.8MB/s eta 0:00:01\r\u001b[K     |████████████████████▋           | 419kB 4.8MB/s eta 0:00:01\r\u001b[K     |█████████████████████           | 430kB 4.8MB/s eta 0:00:01\r\u001b[K     |█████████████████████▋          | 440kB 4.8MB/s eta 0:00:01\r\u001b[K     |██████████████████████          | 450kB 4.8MB/s eta 0:00:01\r\u001b[K     |██████████████████████▋         | 460kB 4.8MB/s eta 0:00:01\r\u001b[K     |███████████████████████         | 471kB 4.8MB/s eta 0:00:01\r\u001b[K     |███████████████████████▋        | 481kB 4.8MB/s eta 0:00:01\r\u001b[K     |████████████████████████        | 491kB 4.8MB/s eta 0:00:01\r\u001b[K     |████████████████████████▋       | 501kB 4.8MB/s eta 0:00:01\r\u001b[K     |█████████████████████████       | 512kB 4.8MB/s eta 0:00:01\r\u001b[K     |█████████████████████████▋      | 522kB 4.8MB/s eta 0:00:01\r\u001b[K     |██████████████████████████      | 532kB 4.8MB/s eta 0:00:01\r\u001b[K     |██████████████████████████▋     | 542kB 4.8MB/s eta 0:00:01\r\u001b[K     |███████████████████████████     | 552kB 4.8MB/s eta 0:00:01\r\u001b[K     |███████████████████████████▋    | 563kB 4.8MB/s eta 0:00:01\r\u001b[K     |████████████████████████████    | 573kB 4.8MB/s eta 0:00:01\r\u001b[K     |████████████████████████████▋   | 583kB 4.8MB/s eta 0:00:01\r\u001b[K     |█████████████████████████████▏  | 593kB 4.8MB/s eta 0:00:01\r\u001b[K     |█████████████████████████████▋  | 604kB 4.8MB/s eta 0:00:01\r\u001b[K     |██████████████████████████████▏ | 614kB 4.8MB/s eta 0:00:01\r\u001b[K     |██████████████████████████████▋ | 624kB 4.8MB/s eta 0:00:01\r\u001b[K     |███████████████████████████████▏| 634kB 4.8MB/s eta 0:00:01\r\u001b[K     |███████████████████████████████▋| 645kB 4.8MB/s eta 0:00:01\r\u001b[K     |████████████████████████████████| 655kB 4.8MB/s \n",
            "\u001b[?25hRequirement already satisfied: scipy>=0.16 in /usr/local/lib/python3.6/dist-packages (from accelerator-toolbox) (1.4.1)\n",
            "Requirement already satisfied: numpy>=1.14.3 in /usr/local/lib/python3.6/dist-packages (from accelerator-toolbox) (1.17.5)\n",
            "Installing collected packages: accelerator-toolbox\n",
            "Successfully installed accelerator-toolbox-0.0.3\n"
          ],
          "name": "stdout"
        }
      ]
    },
    {
      "cell_type": "markdown",
      "metadata": {
        "id": "ONQpNfXZ2KE1",
        "colab_type": "text"
      },
      "source": [
        "Define the lattice elements."
      ]
    },
    {
      "cell_type": "code",
      "metadata": {
        "id": "NgNxmXVs1rCp",
        "colab_type": "code",
        "colab": {}
      },
      "source": [
        "# Straight Section definitions\n",
        "D      =    at.elements.Drift('D', 1.5  );\n",
        "\n",
        "# Quadrupoles \n",
        "QF     =    at.elements.Quadrupole('QF'  , 0.2, 0.750000);"
      ],
      "execution_count": 0,
      "outputs": []
    },
    {
      "cell_type": "markdown",
      "metadata": {
        "id": "lqIq0qYdioTO",
        "colab_type": "text"
      },
      "source": [
        "Define the lattice."
      ]
    },
    {
      "cell_type": "code",
      "metadata": {
        "id": "0SUDpZTLipCt",
        "colab_type": "code",
        "outputId": "e2492395-2e26-43d4-cf80-5e081faa77d6",
        "colab": {
          "base_uri": "https://localhost:8080/",
          "height": 55
        }
      },
      "source": [
        "L = [ D ]\n",
        "L1 = 5*L\n",
        "lattice =  [D,D,D, QF]+ L1 \n",
        "print(lattice)"
      ],
      "execution_count": 0,
      "outputs": [
        {
          "output_type": "stream",
          "text": [
            "[Drift('D', 1.5), Drift('D', 1.5), Drift('D', 1.5), Quadrupole('QF', 0.2, 0.75), Drift('D', 1.5), Drift('D', 1.5), Drift('D', 1.5), Drift('D', 1.5), Drift('D', 1.5)]\n"
          ],
          "name": "stdout"
        }
      ]
    },
    {
      "cell_type": "markdown",
      "metadata": {
        "id": "XOI9_XXZjYoq",
        "colab_type": "text"
      },
      "source": [
        "Define a particle X [x, xp, y ,yp, dp, s]"
      ]
    },
    {
      "cell_type": "code",
      "metadata": {
        "id": "zOvARfaHjj24",
        "colab_type": "code",
        "colab": {}
      },
      "source": [
        "X0=np.zeros((6,1))\n",
        "X0[0]=0.001 # x\n",
        "X0[1]=0.0 # xp"
      ],
      "execution_count": 0,
      "outputs": []
    },
    {
      "cell_type": "markdown",
      "metadata": {
        "id": "80lHKMEDkYPB",
        "colab_type": "text"
      },
      "source": [
        "Track through the lattice"
      ]
    },
    {
      "cell_type": "code",
      "metadata": {
        "id": "gl3h2zaRw1NS",
        "colab_type": "code",
        "colab": {}
      },
      "source": [
        "# Find reference points for output. One for each element.\n",
        "length = np.size(lattice)\n",
        "refpts = np.r_[0:length + 1]"
      ],
      "execution_count": 0,
      "outputs": []
    },
    {
      "cell_type": "code",
      "metadata": {
        "id": "8PJqBxX5tUqt",
        "colab_type": "code",
        "colab": {}
      },
      "source": [
        "# Track the particle in X0 through the lattice.\n",
        "X_out = at.lattice_pass(lattice, X0, nturns=1,refpts=refpts)"
      ],
      "execution_count": 0,
      "outputs": []
    },
    {
      "cell_type": "markdown",
      "metadata": {
        "id": "L88FlwIuFblA",
        "colab_type": "text"
      },
      "source": [
        "Get the longitudinal position of each element exit."
      ]
    },
    {
      "cell_type": "code",
      "metadata": {
        "id": "PTcWp9alFOl3",
        "colab_type": "code",
        "colab": {}
      },
      "source": [
        "s = at.lattice.get_s_pos(lattice)"
      ],
      "execution_count": 0,
      "outputs": []
    },
    {
      "cell_type": "markdown",
      "metadata": {
        "id": "2eXraJaeslnH",
        "colab_type": "text"
      },
      "source": [
        "Plot the phase space along the lattice"
      ]
    },
    {
      "cell_type": "code",
      "metadata": {
        "id": "j4TpF-bNFXtI",
        "colab_type": "code",
        "outputId": "603f6ee9-71d2-4684-fd05-6390be51c1c0",
        "colab": {
          "base_uri": "https://localhost:8080/",
          "height": 295
        }
      },
      "source": [
        "plt.plot(X_out[0,0,:,0],X_out[1,0,:,0],'*')\n",
        "axes = plt.gca()\n",
        "axes.axhline(y=0,color='k')\n",
        "axes.axvline(x=0, color='k')\n",
        "axes.set_xlabel('x (m)')\n",
        "axes.set_ylabel('x p')\n",
        "axes.set_title('Phase space in x')\n",
        "plt.show()"
      ],
      "execution_count": 0,
      "outputs": [
        {
          "output_type": "display_data",
          "data": {
            "image/png": "[encoded data removed]",
            "text/plain": [
              "<Figure size 432x288 with 1 Axes>"
            ]
          },
          "metadata": {
            "tags": []
          }
        }
      ]
    },
    {
      "cell_type": "code",
      "metadata": {
        "id": "kFSzYM48J0xN",
        "colab_type": "code",
        "outputId": "c70f130d-891b-4ec5-ff7d-17daa35ee7d5",
        "colab": {
          "base_uri": "https://localhost:8080/",
          "height": 295
        }
      },
      "source": [
        "plt.plot(X_out[2,0,:,0],X_out[3,0,:,0],'*r')\n",
        "axes = plt.gca()\n",
        "axes.axhline(y=0,color='k')\n",
        "axes.axvline(x=0, color='k')\n",
        "axes.set_xlabel('y (m)')\n",
        "axes.set_ylabel('y p')\n",
        "axes.set_title('Phase space in y')\n",
        "plt.show()"
      ],
      "execution_count": 0,
      "outputs": [
        {
          "output_type": "display_data",
          "data": {
            "image/png": "[encoded data removed]",
            "text/plain": [
              "<Figure size 432x288 with 1 Axes>"
            ]
          },
          "metadata": {
            "tags": []
          }
        }
      ]
    },
    {
      "cell_type": "code",
      "metadata": {
        "id": "adQqA_vbzYOA",
        "colab_type": "code",
        "colab": {}
      },
      "source": [
        ""
      ],
      "execution_count": 0,
      "outputs": []
    }
  ]
}