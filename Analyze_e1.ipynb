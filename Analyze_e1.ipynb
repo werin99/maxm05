{
  "nbformat": 4,
  "nbformat_minor": 0,
  "metadata": {
    "colab": {
      "name": "Analyze_e1.ipynb",
      "provenance": [],
      "collapsed_sections": [],
      "toc_visible": true
    },
    "kernelspec": {
      "name": "python3",
      "display_name": "Python 3"
    }
  },
  "cells": [
    {
      "cell_type": "markdown",
      "metadata": {
        "id": "QajT16xJiC1Q",
        "colab_type": "text"
      },
      "source": [
        "## Analyze_e1\n",
        "\n",
        "Example for the MAXM05 course\n",
        "\n",
        "(Sverker Werin)"
      ]
    },
    {
      "cell_type": "code",
      "metadata": {
        "id": "GFtvmOxp807C",
        "colab_type": "code",
        "outputId": "63d32e76-04a5-4b13-e2d3-5a5701e49f20",
        "colab": {
          "base_uri": "https://localhost:8080/",
          "height": 162
        }
      },
      "source": [
        "!pip install accelerator-toolbox # only for Google Colab\n",
        "\n",
        "import at\n",
        "import numpy as np\n",
        "import matplotlib.pyplot as plt"
      ],
      "execution_count": 0,
      "outputs": [
        {
          "output_type": "stream",
          "text": [
            "Collecting accelerator-toolbox\n",
            "\u001b[?25l  Downloading https://files.pythonhosted.org/packages/5b/ff/7fa569f02c28b1cbe072fc2ae3383bf8508021c29537b2081bd99c8ec510/accelerator_toolbox-0.0.3-cp36-cp36m-manylinux1_x86_64.whl (652kB)\n",
            "\r\u001b[K     |▌                               | 10kB 16.5MB/s eta 0:00:01\r\u001b[K     |█                               | 20kB 3.4MB/s eta 0:00:01\r\u001b[K     |█▌                              | 30kB 4.5MB/s eta 0:00:01\r\u001b[K     |██                              | 40kB 3.1MB/s eta 0:00:01\r\u001b[K     |██▌                             | 51kB 3.5MB/s eta 0:00:01\r\u001b[K     |███                             | 61kB 4.2MB/s eta 0:00:01\r\u001b[K     |███▌                            | 71kB 4.3MB/s eta 0:00:01\r\u001b[K     |████                            | 81kB 4.4MB/s eta 0:00:01\r\u001b[K     |████▌                           | 92kB 4.9MB/s eta 0:00:01\r\u001b[K     |█████                           | 102kB 4.8MB/s eta 0:00:01\r\u001b[K     |█████▌                          | 112kB 4.8MB/s eta 0:00:01\r\u001b[K     |██████                          | 122kB 4.8MB/s eta 0:00:01\r\u001b[K     |██████▌                         | 133kB 4.8MB/s eta 0:00:01\r\u001b[K     |███████                         | 143kB 4.8MB/s eta 0:00:01\r\u001b[K     |███████▌                        | 153kB 4.8MB/s eta 0:00:01\r\u001b[K     |████████                        | 163kB 4.8MB/s eta 0:00:01\r\u001b[K     |████████▌                       | 174kB 4.8MB/s eta 0:00:01\r\u001b[K     |█████████                       | 184kB 4.8MB/s eta 0:00:01\r\u001b[K     |█████████▌                      | 194kB 4.8MB/s eta 0:00:01\r\u001b[K     |██████████                      | 204kB 4.8MB/s eta 0:00:01\r\u001b[K     |██████████▌                     | 215kB 4.8MB/s eta 0:00:01\r\u001b[K     |███████████                     | 225kB 4.8MB/s eta 0:00:01\r\u001b[K     |███████████▌                    | 235kB 4.8MB/s eta 0:00:01\r\u001b[K     |████████████                    | 245kB 4.8MB/s eta 0:00:01\r\u001b[K     |████████████▌                   | 256kB 4.8MB/s eta 0:00:01\r\u001b[K     |█████████████                   | 266kB 4.8MB/s eta 0:00:01\r\u001b[K     |█████████████▌                  | 276kB 4.8MB/s eta 0:00:01\r\u001b[K     |██████████████                  | 286kB 4.8MB/s eta 0:00:01\r\u001b[K     |██████████████▋                 | 296kB 4.8MB/s eta 0:00:01\r\u001b[K     |███████████████                 | 307kB 4.8MB/s eta 0:00:01\r\u001b[K     |███████████████▋                | 317kB 4.8MB/s eta 0:00:01\r\u001b[K     |████████████████                | 327kB 4.8MB/s eta 0:00:01\r\u001b[K     |████████████████▋               | 337kB 4.8MB/s eta 0:00:01\r\u001b[K     |█████████████████               | 348kB 4.8MB/s eta 0:00:01\r\u001b[K     |█████████████████▋              | 358kB 4.8MB/s eta 0:00:01\r\u001b[K     |██████████████████              | 368kB 4.8MB/s eta 0:00:01\r\u001b[K     |██████████████████▋             | 378kB 4.8MB/s eta 0:00:01\r\u001b[K     |███████████████████             | 389kB 4.8MB/s eta 0:00:01\r\u001b[K     |███████████████████▋            | 399kB 4.8MB/s eta 0:00:01\r\u001b[K     |████████████████████            | 409kB 4.8MB/s eta 0:00:01\r\u001b[K     |████████████████████▋           | 419kB 4.8MB/s eta 0:00:01\r\u001b[K     |█████████████████████           | 430kB 4.8MB/s eta 0:00:01\r\u001b[K     |█████████████████████▋          | 440kB 4.8MB/s eta 0:00:01\r\u001b[K     |██████████████████████          | 450kB 4.8MB/s eta 0:00:01\r\u001b[K     |██████████████████████▋         | 460kB 4.8MB/s eta 0:00:01\r\u001b[K     |███████████████████████         | 471kB 4.8MB/s eta 0:00:01\r\u001b[K     |███████████████████████▋        | 481kB 4.8MB/s eta 0:00:01\r\u001b[K     |████████████████████████        | 491kB 4.8MB/s eta 0:00:01\r\u001b[K     |████████████████████████▋       | 501kB 4.8MB/s eta 0:00:01\r\u001b[K     |█████████████████████████       | 512kB 4.8MB/s eta 0:00:01\r\u001b[K     |█████████████████████████▋      | 522kB 4.8MB/s eta 0:00:01\r\u001b[K     |██████████████████████████      | 532kB 4.8MB/s eta 0:00:01\r\u001b[K     |██████████████████████████▋     | 542kB 4.8MB/s eta 0:00:01\r\u001b[K     |███████████████████████████     | 552kB 4.8MB/s eta 0:00:01\r\u001b[K     |███████████████████████████▋    | 563kB 4.8MB/s eta 0:00:01\r\u001b[K     |████████████████████████████    | 573kB 4.8MB/s eta 0:00:01\r\u001b[K     |████████████████████████████▋   | 583kB 4.8MB/s eta 0:00:01\r\u001b[K     |█████████████████████████████▏  | 593kB 4.8MB/s eta 0:00:01\r\u001b[K     |█████████████████████████████▋  | 604kB 4.8MB/s eta 0:00:01\r\u001b[K     |██████████████████████████████▏ | 614kB 4.8MB/s eta 0:00:01\r\u001b[K     |██████████████████████████████▋ | 624kB 4.8MB/s eta 0:00:01\r\u001b[K     |███████████████████████████████▏| 634kB 4.8MB/s eta 0:00:01\r\u001b[K     |███████████████████████████████▋| 645kB 4.8MB/s eta 0:00:01\r\u001b[K     |████████████████████████████████| 655kB 4.8MB/s \n",
            "\u001b[?25hRequirement already satisfied: scipy>=0.16 in /usr/local/lib/python3.6/dist-packages (from accelerator-toolbox) (1.4.1)\n",
            "Requirement already satisfied: numpy>=1.14.3 in /usr/local/lib/python3.6/dist-packages (from accelerator-toolbox) (1.17.5)\n",
            "Installing collected packages: accelerator-toolbox\n",
            "Successfully installed accelerator-toolbox-0.0.3\n"
          ],
          "name": "stdout"
        }
      ]
    },
    {
      "cell_type": "markdown",
      "metadata": {
        "id": "ONQpNfXZ2KE1",
        "colab_type": "text"
      },
      "source": [
        "Define the lattice elements."
      ]
    },
    {
      "cell_type": "code",
      "metadata": {
        "id": "NgNxmXVs1rCp",
        "colab_type": "code",
        "colab": {}
      },
      "source": [
        "# Straight Section definitions\n",
        "D      =    at.elements.Drift('D', 1.5  );\n",
        "\n",
        "# Quadrupoles \n",
        "QF     =    at.elements.Quadrupole('QF'  , 0.2, 0.30000);"
      ],
      "execution_count": 0,
      "outputs": []
    },
    {
      "cell_type": "markdown",
      "metadata": {
        "id": "lqIq0qYdioTO",
        "colab_type": "text"
      },
      "source": [
        "Define the lattice."
      ]
    },
    {
      "cell_type": "code",
      "metadata": {
        "id": "0SUDpZTLipCt",
        "colab_type": "code",
        "outputId": "08c302bf-6f48-43b1-d417-3c0e88e6632a",
        "colab": {
          "base_uri": "https://localhost:8080/",
          "height": 55
        }
      },
      "source": [
        "L = [ D ]\n",
        "L1 = 5*L\n",
        "lattice =  [D,D,D, QF]+ L1 \n",
        "print(lattice)"
      ],
      "execution_count": 0,
      "outputs": [
        {
          "output_type": "stream",
          "text": [
            "[Drift('D', 1.5), Drift('D', 1.5), Drift('D', 1.5), Quadrupole('QF', 0.2, 0.3), Drift('D', 1.5), Drift('D', 1.5), Drift('D', 1.5), Drift('D', 1.5), Drift('D', 1.5)]\n"
          ],
          "name": "stdout"
        }
      ]
    },
    {
      "cell_type": "markdown",
      "metadata": {
        "id": "XOI9_XXZjYoq",
        "colab_type": "text"
      },
      "source": [
        "Define a particle X [x, xp, y ,yp, dp, s]"
      ]
    },
    {
      "cell_type": "code",
      "metadata": {
        "id": "zOvARfaHjj24",
        "colab_type": "code",
        "colab": {}
      },
      "source": [
        "X0=np.zeros((6,1))\n",
        "X0[0]=0.001 # x\n",
        "X0[1]=0.0 # xp"
      ],
      "execution_count": 0,
      "outputs": []
    },
    {
      "cell_type": "markdown",
      "metadata": {
        "id": "80lHKMEDkYPB",
        "colab_type": "text"
      },
      "source": [
        "Track through the lattice"
      ]
    },
    {
      "cell_type": "code",
      "metadata": {
        "id": "gl3h2zaRw1NS",
        "colab_type": "code",
        "colab": {}
      },
      "source": [
        "# Find reference points for output. One for each element.\n",
        "length = np.size(lattice)\n",
        "refpts = np.r_[0:length + 1]"
      ],
      "execution_count": 0,
      "outputs": []
    },
    {
      "cell_type": "code",
      "metadata": {
        "id": "8PJqBxX5tUqt",
        "colab_type": "code",
        "colab": {}
      },
      "source": [
        "# Track the particle in X0 through the lattice.\n",
        "X_out = at.lattice_pass(lattice, X0, nturns=1,refpts=refpts)"
      ],
      "execution_count": 0,
      "outputs": []
    },
    {
      "cell_type": "markdown",
      "metadata": {
        "id": "L88FlwIuFblA",
        "colab_type": "text"
      },
      "source": [
        "Get the longitudinal position of each element exit."
      ]
    },
    {
      "cell_type": "code",
      "metadata": {
        "id": "PTcWp9alFOl3",
        "colab_type": "code",
        "colab": {}
      },
      "source": [
        "s = at.lattice.get_s_pos(lattice)"
      ],
      "execution_count": 0,
      "outputs": []
    },
    {
      "cell_type": "markdown",
      "metadata": {
        "id": "2eXraJaeslnH",
        "colab_type": "text"
      },
      "source": [
        "Plot the particle position along the lattice"
      ]
    },
    {
      "cell_type": "code",
      "metadata": {
        "id": "j4TpF-bNFXtI",
        "colab_type": "code",
        "outputId": "ca488c2f-c231-4184-d4b9-102b2ba106ca",
        "colab": {
          "base_uri": "https://localhost:8080/",
          "height": 295
        }
      },
      "source": [
        "plt.plot(s,X_out[0,0,:,0])\n",
        "axes = plt.gca()\n",
        "axes.set_xlabel('s (m)')\n",
        "axes.set_ylabel('x (m)')\n",
        "axes.set_title('Particle position in x')\n",
        "plt.show()"
      ],
      "execution_count": 0,
      "outputs": [
        {
          "output_type": "display_data",
          "data": {
            "image/png": "[encoded data removed]",
            "text/plain": [
              "<Figure size 432x288 with 1 Axes>"
            ]
          },
          "metadata": {
            "tags": []
          }
        }
      ]
    },
    {
      "cell_type": "markdown",
      "metadata": {
        "id": "5yDw218UF18O",
        "colab_type": "text"
      },
      "source": [
        "Plot the angle of particle path along lattice."
      ]
    },
    {
      "cell_type": "code",
      "metadata": {
        "id": "snwFpIAvF0uh",
        "colab_type": "code",
        "outputId": "bbb88319-93c3-4da4-8bd6-7e9371c32c72",
        "colab": {
          "base_uri": "https://localhost:8080/",
          "height": 295
        }
      },
      "source": [
        "plt.plot(s,X_out[1,0,:,0])\n",
        "axes = plt.gca()\n",
        "axes.set_xlabel('s (m)')\n",
        "axes.set_ylabel('x p')\n",
        "axes.set_title('Angle of particle path')\n",
        "plt.show()"
      ],
      "execution_count": 0,
      "outputs": [
        {
          "output_type": "display_data",
          "data": {
            "image/png": "[encoded data removed]",
            "text/plain": [
              "<Figure size 432x288 with 1 Axes>"
            ]
          },
          "metadata": {
            "tags": []
          }
        }
      ]
    },
    {
      "cell_type": "markdown",
      "metadata": {
        "id": "R4ydmmpIIdaD",
        "colab_type": "text"
      },
      "source": [
        "Calculate transfer matrices of different elements"
      ]
    },
    {
      "cell_type": "code",
      "metadata": {
        "id": "doU_CiIvHd2-",
        "colab_type": "code",
        "outputId": "a6ec25ed-7db0-4d4b-ce8a-248fabba51a3",
        "colab": {
          "base_uri": "https://localhost:8080/",
          "height": 267
        }
      },
      "source": [
        "element=0\n",
        "m66=at.find_elem_m66(lattice[element])\n",
        "\n",
        "print('Transfer matrix of element',element,' = ')\n",
        "print (m66)\n",
        "\n",
        "element=3\n",
        "m66=at.find_elem_m66(lattice[element])\n",
        "\n",
        "\n",
        "print('Transfer matrix of element',element,' = ')\n",
        "print (m66)\n"
      ],
      "execution_count": 0,
      "outputs": [
        {
          "output_type": "stream",
          "text": [
            "Transfer matrix of element 0  = \n",
            "[[1.  1.5 0.  0.  0.  0. ]\n",
            " [0.  1.  0.  0.  0.  0. ]\n",
            " [0.  0.  1.  1.5 0.  0. ]\n",
            " [0.  0.  0.  1.  0.  0. ]\n",
            " [0.  0.  0.  0.  1.  0. ]\n",
            " [0.  0.  0.  0.  0.  1. ]]\n",
            "Transfer matrix of element 3  = \n",
            "[[ 0.994006    0.19960024  0.          0.          0.          0.        ]\n",
            " [-0.05988007  0.994006    0.          0.          0.          0.        ]\n",
            " [ 0.          0.          1.006006    0.20040024  0.          0.        ]\n",
            " [ 0.          0.          0.06012007  1.006006    0.          0.        ]\n",
            " [ 0.          0.          0.          0.          1.          0.        ]\n",
            " [ 0.          0.          0.          0.          0.          1.        ]]\n"
          ],
          "name": "stdout"
        }
      ]
    },
    {
      "cell_type": "markdown",
      "metadata": {
        "id": "eCb0ZDX6JYdq",
        "colab_type": "text"
      },
      "source": [
        "Calculate the transfer matrix of the complete lattice "
      ]
    },
    {
      "cell_type": "code",
      "metadata": {
        "id": "3l6zJ2HEJjZe",
        "colab_type": "code",
        "outputId": "560fff2c-c80d-4d14-e872-54bdd65adff0",
        "colab": {
          "base_uri": "https://localhost:8080/",
          "height": 88
        }
      },
      "source": [
        "a=at.find_m44(lattice,0)\n",
        "print(a[0])"
      ],
      "execution_count": 0,
      "outputs": [
        {
          "output_type": "stream",
          "text": [
            "[[ 0.54490546 10.10671978  0.          0.        ]\n",
            " [-0.05988007  0.72454567  0.          0.        ]\n",
            " [ 0.          0.          1.45690654 14.3015247 ]\n",
            " [ 0.          0.          0.06012007  1.27654633]]\n"
          ],
          "name": "stdout"
        }
      ]
    },
    {
      "cell_type": "code",
      "metadata": {
        "id": "kFSzYM48J0xN",
        "colab_type": "code",
        "colab": {}
      },
      "source": [
        ""
      ],
      "execution_count": 0,
      "outputs": []
    }
  ]
}